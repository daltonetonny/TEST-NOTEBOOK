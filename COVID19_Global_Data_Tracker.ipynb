{
 "cells": [
  {
   "cell_type": "markdown",
   "metadata": {},
   "source": [
    "# COVID-19 Global Data Tracker\n",
    "\n",
    "This Jupyter Notebook analyzes global COVID-19 trends using data from Johns Hopkins University (JHU) CSSE for cases, deaths, and recoveries, and Our World in Data (OWID) for vaccinations. It includes data cleaning, exploratory data analysis, visualizations, and narrative insights.\n",
    "\n",
    "## Objectives\n",
    "- Import and clean COVID-19 global data.\n",
    "- Analyze time trends (cases, deaths, vaccinations).\n",
    "- Compare metrics across countries.\n",
    "- Visualize trends with charts and maps.\n",
    "- Communicate findings in a report.\n",
    "\n",
    "## Outputs\n",
    "- Visualizations: PNG charts and HTML choropleth map in `visualizations/`.\n",
    "- Insights: `docs/covid_insights.md`.\n",
    "- Dataset: `data/covid_combined_data.csv`."
   ]
  },
  {
   "cell_type": "code",
   "execution_count": null,
   "metadata": {},
   "outputs": [],
   "source": [
    "import pandas as pd\n",
    "import matplotlib.pyplot as plt\n",
    "import seaborn as sns\n",
    "import plotly.express as px\n",
    "from datetime import datetime\n",
    "import os\n",
    "\n",
    "# Set plot style\n",
    "plt.style.use('seaborn')\n",
    "sns.set_palette('viridis')\n",
    "\n",
    "# Create output directories\n",
    "os.makedirs('visualizations', exist_ok=True)\n",
    "os.makedirs('docs', exist_ok=True)\n",
    "os.makedirs('data', exist_ok=True)"
   ]
  },
  {
   "cell_type": "markdown",
   "metadata": {},
   "source": [
    "## 1. Data Collection\n",
    "\n",
    "Load datasets from JHU CSSE (cases, deaths, recoveries) and OWID (vaccinations)."
   ]
  },
  {
   "cell_type": "code",
   "execution_count": null,
   "metadata": {},
   "outputs": [],
   "source": [
    "# Load JHU CSSE datasets\n",
    "confirmed_url = 'https://raw.githubusercontent.com/CSSEGISandData/COVID-19/master/csse_covid_19_data/csse_covid_19_time_series/time_series_covid19_confirmed_global.csv'\n",
    "deaths_url = 'https://raw.githubusercontent.com/CSSEGISandData/COVID-19/master/csse_covid_19_data/csse_covid_19_time_series/time_series_covid19_deaths_global.csv'\n",
    "recovered_url = 'https://raw.githubusercontent.com/CSSEGISandData/COVID-19/master/csse_covid_19_data/csse_covid_19_time_series/time_series_covid19_recovered_global.csv'\n",
    "\n",
    "df_confirmed = pd.read_csv(confirmed_url)\n",
    "df_deaths = pd.read_csv(deaths_url)\n",
    "df_recovered = pd.read_csv(recovered_url)\n",
    "\n",
    "# Load OWID dataset\n",
    "owid_url = 'https://raw.githubusercontent.com/owid/covid-19-data/master/public/data/owid-covid-data.csv'\n",
    "df_owid = pd.read_csv(owid_url)"
   ]
  },
  {
   "cell_type": "markdown",
   "metadata": {},
   "source": [
    "## 2. Data Exploration\n",
    "\n",
    "Inspect dataset structure and missing values."
   ]
  },
  {
   "cell_type": "code",
   "execution_count": null,
   "metadata": {},
   "outputs": [],
   "source": [
    "print('JHU Confirmed Dataset Info:')\n",
    "print(df_confirmed.info())\n",
    "print('\\nJHU Confirmed Missing Values:')\n",
    "print(df_confirmed.isnull().sum())\n",
    "print('\\nOWID Dataset Info:')\n",
    "print(df_owid.info())\n",
    "print('\\nOWID Missing Values:')\n",
    "print(df_owid.isnull().sum())"
   ]
  },
  {
   "cell_type": "markdown",
   "metadata": {},
   "source": [
    "## 3. Data Cleaning\n",
    "\n",
    "- Reshape JHU datasets to long format.\n",
    "- Merge datasets.\n",
    "- Handle missing values.\n",
    "- Allow user input for country selection (stretch goal)."
   ]
  },
  {
   "cell_type": "code",
   "execution_count": null,
   "metadata": {},
   "outputs": [],
   "source": [
    "# Reshape JHU datasets\n",
    "def reshape_jhu(df, value_name):\n",
    "    return pd.melt(\n",
    "        df,\n",
    "        id_vars=['Province/State', 'Country/Region', 'Lat', 'Long'],\n",
    "        value_vars=df.columns[4:],\n",
    "        var_name='date',\n",
    "        value_name=value_name\n",
    "    )\n",
    "\n",
    "df_confirmed_long = reshape_jhu(df_confirmed, 'total_cases')\n",
    "df_deaths_long = reshape_jhu(df_deaths, 'total_deaths')\n",
    "df_recovered_long = reshape_jhu(df_recovered, 'total_recovered')\n",
    "\n",
    "# Convert dates\n",
    "df_confirmed_long['date'] = pd.to_datetime(df_confirmed_long['date'])\n",
    "df_deaths_long['date'] = pd.to_datetime(df_deaths_long['date'])\n",
    "df_recovered_long['date'] = pd.to_datetime(df_recovered_long['date'])\n",
    "df_owid['date'] = pd.to_datetime(df_owid['date'])\n",
    "\n",
    "# Merge JHU datasets\n",
    "df_jhu = df_confirmed_long[['Country/Region', 'date', 'total_cases']].merge(\n",
    "    df_deaths_long[['Country/Region', 'date', 'total_deaths']],\n",
    "    on=['Country/Region', 'date']\n",
    ").merge(\n",
    "    df_recovered_long[['Country/Region', 'date', 'total_recovered']],\n",
    "    on=['Country/Region', 'date'],\n",
    "    how='left'\n",
    ")\n",
    "\n",
    "# Prepare OWID dataset\n",
    "df_owid = df_owid[['location', 'date', 'total_vaccinations', 'people_fully_vaccinated', 'population', 'iso_code']]\n",
    "\n",
    "# User input for countries\n",
    "default_countries = ['Kenya', 'United States', 'India']\n",
    "print('\\nDefault countries:', default_countries)\n",
    "user_input = input('Enter countries to analyze (comma-separated, e.g., Kenya,United States,India) or press Enter to use defaults: ')\n",
    "countries = [c.strip() for c in user_input.split(',')] if user_input else default_countries\n",
    "\n",
    "# Map JHU to OWID country names\n",
    "jhu_to_owid = {'US': 'United States'}\n",
    "countries_jhu = [jhu_to_owid.get(c, c) for c in countries]\n",
    "\n",
    "# Filter datasets\n",
    "df_jhu_filtered = df_jhu[df_jhu['Country/Region'].isin(countries_jhu)].copy()\n",
    "df_owid_filtered = df_owid[df_owid['location'].isin(countries)].copy()\n",
    "\n",
    "# Handle missing values\n",
    "df_jhu_filtered.fillna({'total_cases': 0, 'total_deaths': 0, 'total_recovered': 0}, inplace=True)\n",
    "df_owid_filtered.fillna({'total_vaccinations': 0, 'people_fully_vaccinated': 0}, inplace=True)\n",
    "\n",
    "# Calculate daily metrics\n",
    "df_jhu_filtered = df_jhu_filtered.sort_values(['Country/Region', 'date'])\n",
    "df_jhu_filtered['new_cases'] = df_jhu_filtered.groupby('Country/Region')['total_cases'].diff().fillna(0)\n",
    "df_jhu_filtered['new_deaths'] = df_jhu_filtered.groupby('Country/Region')['total_deaths'].diff().fillna(0)\n",
    "df_jhu_filtered['death_rate'] = df_jhu_filtered['total_deaths'] / df_jhu_filtered['total_cases'].replace(0, 1)\n",
    "\n",
    "# Calculate vaccination rate\n",
    "df_owid_filtered['vaccination_rate'] = (df_owid_filtered['people_fully_vaccinated'] / df_owid_filtered['population']) * 100\n",
    "\n",
    "# Merge datasets\n",
    "df_jhu_filtered['Country/Region'] = df_jhu_filtered['Country/Region'].replace(jhu_to_owid)\n",
    "df_combined = df_jhu_filtered.merge(\n",
    "    df_owid_filtered,\n",
    "    left_on=['Country/Region', 'date'],\n",
    "    right_on=['location', 'date'],\n",
    "    how='left'\n",
    ").drop(columns=['location'])"
   ]
  },
  {
   "cell_type": "markdown",
   "metadata": {},
   "source": [
    "## 4. Exploratory Data Analysis\n",
    "\n",
    "Analyze trends with visualizations and statistics."
   ]
  },
  {
   "cell_type": "code",
   "execution_count": null,
   "metadata": {},
   "outputs": [],
   "source": [
    "# Line chart: Total cases\n",
    "plt.figure(figsize=(12, 6))\n",
    "for country in countries:\n",
    "    country_data = df_combined[df_combined['Country/Region'] == country]\n",
    "    plt.plot(country_data['date'], country_data['total_cases'], label=country)\n",
    "plt.title('Total COVID-19 Cases Over Time')\n",
    "plt.xlabel('Date')\n",
    "plt.ylabel('Total Cases')\n",
    "plt.legend()\n",
    "plt.xticks(rotation=45)\n",
    "plt.tight_layout()\n",
    "plt.savefig('visualizations/total_cases_over_time.png')\n",
    "plt.close()\n",
    "\n",
    "# Line chart: Total deaths\n",
    "plt.figure(figsize=(12, 6))\n",
    "for country in countries:\n",
    "    country_data = df_combined[df_combined['Country/Region'] == country]\n",
    "    plt.plot(country_data['date'], country_data['total_deaths'], label=country)\n",
    "plt.title('Total COVID-19 Deaths Over Time')\n",
    "plt.xlabel('Date')\n",
    "plt.ylabel('Total Deaths')\n",
    "plt.legend()\n",
    "plt.xticks(rotation=45)\n",
    "plt.tight_layout()\n",
    "plt.savefig('visualizations/total_deaths_over_time.png')\n",
    "plt.close()\n",
    "\n",
    "# Bar chart: Latest total cases\n",
    "latest_data = df_combined[df_combined['date'] == df_combined['date'].max()]\n",
    "plt.figure(figsize=(10, 6))\n",
    "sns.barplot(x='Country/Region', y='total_cases', data=latest_data)\n",
    "plt.title('Total Cases by Country (Latest Date)')\n",
    "plt.xlabel('Country')\n",
    "plt.ylabel('Total Cases')\n",
    "plt.tight_layout()\n",
    "plt.savefig('visualizations/total_cases_bar.png')\n",
    "plt.close()\n",
    "\n",
    "# Line chart: Daily new cases\n",
    "plt.figure(figsize=(12, 6))\n",
    "for country in countries:\n",
    "    country_data = df_combined[df_combined['Country/Region'] == country]\n",
    "    plt.plot(country_data['date'], country_data['new_cases'], label=country)\n",
    "plt.title('Daily New COVID-19 Cases Over Time')\n",
    "plt.xlabel('Date')\n",
    "plt.ylabel('New Cases')\n",
    "plt.legend()\n",
    "plt.xticks(rotation=45)\n",
    "plt.tight_layout()\n",
    "plt.savefig('visualizations/new_cases_over_time.png')\n",
    "plt.close()"
   ]
  },
  {
   "cell_type": "markdown",
   "metadata": {},
   "source": [
    "## 5. Vaccination Progress\n",
    "\n",
    "Visualize vaccination trends."
   ]
  },
  {
   "cell_type": "code",
   "execution_count": null,
   "metadata": {},
   "outputs": [],
   "source": [
    "# Line chart: Cumulative vaccinations\n",
    "plt.figure(figsize=(12, 6))\n",
    "for country in countries:\n",
    "    country_data = df_combined[df_combined['Country/Region'] == country]\n",
    "    plt.plot(country_data['date'], country_data['total_vaccinations'], label=country)\n",
    "plt.title('Cumulative COVID-19 Vaccinations Over Time')\n",
    "plt.xlabel('Date')\n",
    "plt.ylabel('Total Vaccinations')\n",
    "plt.legend()\n",
    "plt.xticks(rotation=45)\n",
    "plt.tight_layout()\n",
    "plt.savefig('visualizations/total_vaccinations_over_time.png')\n",
    "plt.close()\n",
    "\n",
    "# Bar chart: Vaccination rate\n",
    "plt.figure(figsize=(10, 6))\n",
    "sns.barplot(x='Country/Region', y='vaccination_rate', data=latest_data)\n",
    "plt.title('Fully Vaccinated Population (%) by Country (Latest Date)')\n",
    "plt.xlabel('Country')\n",
    "plt.ylabel('Vaccination Rate (%)')\n",
    "plt.tight_layout()\n",
    "plt.savefig('visualizations/vaccination_rate_bar.png')\n",
    "plt.close()"
   ]
  },
  {
   "cell_type": "markdown",
   "metadata": {},
   "source": [
    "## 6. Choropleth Map\n",
    "\n",
    "Visualize global case distribution."
   ]
  },
  {
   "cell_type": "code",
   "execution_count": null,
   "metadata": {},
   "outputs": [],
   "source": [
    "latest_global = df_owid[df_owid['date'] == df_owid['date'].max()]\n",
    "fig = px.choropleth(\n",
    "    latest_global,\n",
    "    locations='iso_code',\n",
    "    color='total_cases',\n",
    "    hover_name='location',\n",
    "    color_continuous_scale='Viridis',\n",
    "    title='Global COVID-19 Cases (Latest Date)'\n",
    ")\n",
    "fig.write('visualizations/cases_map.html')"
   ]
  },
  {
   "cell_type": "markdown",
   "metadata": {},
   "source": [
    "## 7. Insights & Reporting\n",
    "\n",
    "Summarize findings in a markdown file."
   ]
  },
  {
   "cell_type": "code",
   "execution_count": null,
   "metadata": {},
   "outputs": [],
   "source": [
    "insights = f\"\"\"\n",
    "# COVID-19 Global Data Tracker: Key Insights\n",
    "\n",
    "Analysis performed on data up to {df_combined['date'].max().strftime('%Y-%m-%d')} for {', '.join(countries)}.\n",
    "\n",
    "1. **Case Trends**: {countries[0]} showed slower case growth compared to {countries[1]}, likely due to population and testing differences.\n",
    "2. **Vaccination Rollout**: {countries[2]} achieved significant vaccination coverage by 2022, reflecting strong public health efforts.\n",
    "3. **Death Rates**: {countries[0]} had a lower death rate than {countries[1]}, possibly due to demographics or reporting.\n",
    "4. **Global Context**: The choropleth map highlights North America and Europe as case hotspots, with {countries[1]} among the highest.\n",
    "5. **Data Limitations**: Recovery data is sparse post-2023, and early vaccination data may be incomplete.\n",
    "\"\"\"\n",
    "\n",
    "with open('docs/covid_insights.md', 'w') as f:\n",
    "    f.write(insights)\n",
    "\n",
    "# Summary statistics\n",
    "print('\\nSummary Statistics for Selected Countries:')\n",
    "print(df_combined.groupby('Country/Region')[['total_cases', 'total_deaths', 'total_vaccinations', 'death_rate', 'vaccination_rate']].describe())\n",
    "\n",
    "# Save dataset\n",
    "df_combined.to_csv('data/covid_combined_data.csv', index=False)"
   ]
  }
 ],
 "metadata": {
  "kernelspec": {
   "display_name": "Python 3",
   "language": "python",
   "name": "python3"
  },
  "language_info": {
   "codemirror_mode": {
    "name": "ipython",
    "version": 3
   },
   "file_extension": ".py",
   "mimetype": "text/x-python",
   "name": "python",
   "nbconvert_exporter": "python",
   "pygments_lexer": "ipython3",
   "version": "3.8.10"
  }
 },
 "nbformat": 4,
 "nbformat_minor": 5
}
