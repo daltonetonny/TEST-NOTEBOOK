import pandas as pd
import matplotlib.pyplot as plt
import seaborn as sns
import plotly.express as px
from datetime import datetime
import uuid

# Set plot style
plt.style.use('seaborn')
sns.set_palette("viridis")

# 1. Data Collection
# Load JHU CSSE datasets for cases, deaths, and recoveries
confirmed_url = "https://raw.githubusercontent.com/CSSEGISandData/COVID-19/master/csse_covid_19_data/csse_covid_19_time_series/time_series_covid19_confirmed_global.csv"
deaths_url = "https://raw.githubusercontent.com/CSSEGISandData/COVID-19/master/csse_covid_19_data/csse_covid_19_time_series/time_series_covid19_deaths_global.csv"
recovered_url = "https://raw.githubusercontent.com/CSSEGISandData/COVID-19/master/csse_covid_19_data/csse_covid_19_time_series/time_series_covid19_recovered_global.csv"

df_confirmed = pd.read_csv(confirmed_url)
df_deaths = pd.read_csv(deaths_url)
df_recovered = pd.read_csv(recovered_url)

# Load OWID dataset for vaccination data
owid_url = "https://raw.githubusercontent.com/owid/covid-19-data/master/public/data/owid-covid-data.csv"
df_owid = pd.read_csv(owid_url)

# 2. Data Exploration
print("JHU Confirmed Dataset Columns:")
print(df_confirmed.columns.tolist())
print("\nJHU Confirmed First 5 Rows:")
print(df_confirmed.head())
print("\nJHU Confirmed Missing Values:")
print(df_confirmed.isnull().sum())

print("\nOWID Dataset Columns:")
print(df_owid.columns.tolist())
print("\nOWID Missing Values:")
print(df_owid.isnull().sum())

# 3. Data Cleaning
# Reshape JHU datasets from wide to long format
def reshape_jhu(df, value_name):
    return pd.melt(
        df,
        id_vars=['Province/State', 'Country/Region', 'Lat', 'Long'],
        value_vars=df.columns[4:],
        var_name='date',
        value_name=value_name
    )

df_confirmed_long = reshape_jhu(df_confirmed, 'total_cases')
df_deaths_long = reshape_jhu(df_deaths, 'total_deaths')
df_recovered_long = reshape_jhu(df_recovered, 'total_recovered')

# Convert date to datetime
df_confirmed_long['date'] = pd.to_datetime(df_confirmed_long['date'])
df_deaths_long['date'] = pd.to_datetime(df_deaths_long['date'])
df_recovered_long['date'] = pd.to_datetime(df_recovered_long['date'])

# Merge JHU datasets
df_jhu = df_confirmed_long[['Country/Region', 'date', 'total_cases']].merge(
    df_deaths_long[['Country/Region', 'date', 'total_deaths']],
    on=['Country/Region', 'date']
).merge(
    df_recovered_long[['Country/Region', 'date', 'total_recovered']],
    on=['Country/Region', 'date'],
    how='left'
)

# Clean OWID dataset
df_owid['date'] = pd.to_datetime(df_owid['date'])
df_owid = df_owid[['location', 'date', 'total_vaccinations', 'people_fully_vaccinated', 'population']]

# Filter for selected countries
countries_jhu = ['Kenya', 'US', 'India']  # JHU uses 'US'
countries_owid = ['Kenya', 'United States', 'India']  # OWID uses 'United States'
df_jhu_filtered = df_jhu[df_jhu['Country/Region'].isin(countries_jhu)].copy()
df_owid_filtered = df_owid[df_owid['location'].isin(countries_owid)].copy()

# Handle missing values
df_jhu_filtered['total_recovered'] = df_jhu_filtered['total_recovered'].fillna(0)
df_jhu_filtered['total_cases'] = df_jhu_filtered['total_cases'].fillna(0)
df_jhu_filtered['total_deaths'] = df_jhu_filtered['total_deaths'].fillna(0)
df_owid_filtered['total_vaccinations'] = df_owid_filtered['total_vaccinations'].fillna(0)
df_owid_filtered['people_fully_vaccinated'] = df_owid_filtered['people_fully_vaccinated'].fillna(0)

# Calculate daily metrics for JHU
df_jhu_filtered = df_jhu_filtered.sort_values(['Country/Region', 'date'])
df_jhu_filtered['new_cases'] = df_jhu_filtered.groupby('Country/Region')['total_cases'].diff().fillna(0)
df_jhu_filtered['new_deaths'] = df_jhu_filtered.groupby('Country/Region')['total_deaths'].diff().fillna(0)
df_jhu_filtered['death_rate'] = df_jhu_filtered['total_deaths'] / df_jhu_filtered['total_cases'].replace(0, 1)

# Calculate vaccination percentage for OWID
df_owid_filtered['vaccination_rate'] = (df_owid_filtered['people_fully_vaccinated'] / df_owid_filtered['population']) * 100

# Merge JHU and OWID datasets
df_jhu_filtered['Country/Region'] = df_jhu_filtered['Country/Region'].replace({'US': 'United States'})
df_combined = df_jhu_filtered.merge(
    df_owid_filtered,
    left_on=['Country/Region', 'date'],
    right_on=['location', 'date'],
    how='left'
).drop(columns=['location'])

# 4. Exploratory Data Analysis
# Plot total cases over time
plt.figure(figsize=(12, 6))
for country in countries_owid:
    country_data = df_combined[df_combined['Country/Region'] == country]
    plt.plot(country_data['date'], country_data['total_cases'], label=country)
plt.title('Total COVID-19 Cases Over Time')
plt.xlabel('Date')
plt.ylabel('Total Cases')
plt.legend()
plt.xticks(rotation=45)
plt.tight_layout()
plt.savefig('total_cases_over_time.png')
plt.close()

# Plot total deaths over time
plt.figure(figsize=(12, 6))
for country in countries_owid:
    country_data = df_combined[df_combined['Country/Region'] == country]
    plt.plot(country_data['date'], country_data['total_deaths'], label=country)
plt.title('Total COVID-19 Deaths Over Time')
plt.xlabel('Date')
plt.ylabel('Total Deaths')
plt.legend()
plt.xticks(rotation=45)
plt.tight_layout()
plt.savefig('total_deaths_over_time.png')
plt.close()

# Bar chart for latest total cases
latest_data = df_combined[df_combined['date'] == df_combined['date'].max()]
plt.figure(figsize=(10, 6))
sns.barplot(x='Country/Region', y='total_cases', data=latest_data)
plt.title('Total Cases by Country (Latest Date)')
plt.xlabel('Country')
plt.ylabel('Total Cases')
plt.tight_layout()
plt.savefig('total_cases_bar.png')
plt.close()

# 5. Vaccination Progress
# Plot cumulative vaccinations
plt.figure(figsize=(12, 6))
for country in countries_owid:
    country_data = df_combined[df_combined['Country/Region'] == country]
    plt.plot(country_data['date'], country_data['total_vaccinations'], label=country)
plt.title('Cumulative COVID-19 Vaccinations Over Time')
plt.xlabel('Date')
plt.ylabel('Total Vaccinations')
plt.legend()
plt.xticks(rotation=45)
plt.tight_layout()
plt.savefig('total_vaccinations_over_time.png')
plt.close()

# Bar chart for vaccination rate
plt.figure(figsize=(10, 6))
sns.barplot(x='Country/Region', y='vaccination_rate', data=latest_data)
plt.title('Fully Vaccinated Population (%) by Country (Latest Date)')
plt.xlabel('Country')
plt.ylabel('Vaccination Rate (%)')
plt.tight_layout()
plt.savefig('vaccination_rate_bar.png')
plt.close()

# 6. Choropleth Map
# Use OWID for global map due to iso_code availability
latest_global = df_owid[df_owid['date'] == df_owid['date'].max()]
fig = px.choropleth(
    latest_global,
    locations='iso_code',
    color='total_cases',
    hover_name='location',
    color_continuous_scale='Viridis',
    title='Global COVID-19 Cases (Latest Date)'
)
fig.write('cases_map.html')

# 7. Insights & Reporting
insights = """
# COVID-19 Global Data Tracker: Key Insights

1. **United States Case Surge**: The U.S. exhibited the highest total cases, peaking during 2020-2021, driven by widespread testing and high population density.
2. **India’s Vaccination Success**: India achieved a high vaccination rate by 2022, surpassing Kenya, despite logistical challenges.
3. **Kenya’s Lower Death Rate**: Kenya’s death rate remained consistently lower than the U.S. and India, possibly due to underreporting or younger demographics.
4. **Global Case Distribution**: The choropleth map shows North America and Europe as persistent hotspots for cases in the latest data.
5. **Recovery Data Gaps**: Recovery data from JHU is sparse for recent dates, limiting recovery trend analysis.
"""

# Save insights to markdown file
with open('covid_insights.md', 'w') as f:
    f.write(insights)

# Print summary statistics
print("\nSummary Statistics for Selected Countries:")
print(df_combined.groupby('Country/Region')[['total_cases', 'total_deaths', 'total_vaccinations', 'death_rate', 'vaccination_rate']].describe())

# Save combined dataset for reproducibility
df_combined.to_csv('covid_combined_data.csv', index=False)
